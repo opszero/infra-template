{
 "cells": [
  {
   "cell_type": "markdown",
   "metadata": {},
   "source": [
    "# AWS"
   ]
  },
  {
   "cell_type": "markdown",
   "metadata": {},
   "source": [
    "## Deployment Pipeline"
   ]
  },
  {
   "cell_type": "code",
   "execution_count": null,
   "metadata": {},
   "outputs": [],
   "source": [
    "#!/usr/bin/env python3\n",
    "\n",
    "from diagrams import Diagram, Cluster\n",
    "from diagrams.aws.compute import EC2\n",
    "\n",
    "with Diagram(\"Deployment\", show=False, direction=\"TB\") as diag:\n",
    "    with Cluster(\"Github\"):\n",
    "        EC2(\"Github Actions\") >> EC2(\"Build Image\") >> EC2(\"Push to ECR\") >> EC2(\"Helm Chart\") >> EC2(\"Add Secrets\") >> EC2(\"Deploy to EKS Cluster\")\n",
    "\n",
    "diag\n"
   ]
  },
  {
   "cell_type": "markdown",
   "metadata": {},
   "source": [
    "## Cloud Infrastructure"
   ]
  },
  {
   "cell_type": "code",
   "execution_count": null,
   "metadata": {},
   "outputs": [],
   "source": []
  },
  {
   "cell_type": "code",
   "execution_count": null,
   "metadata": {},
   "outputs": [],
   "source": [
    "#!/usr/bin/env python\n",
    "\n",
    "from diagrams import Cluster, Diagram\n",
    "from diagrams.aws.database import RDS, ElastiCache\n",
    "from diagrams.aws.network import ELB, Route53\n",
    "from diagrams.aws.compute import EC2, ElasticKubernetesService\n",
    "from diagrams.saas.cdn import Cloudflare\n",
    "\n",
    "\n",
    "with Diagram(\"opsZero Architecture\", show=False) as diag:\n",
    "    dns = Cloudflare(\"Cloudflare DNS\")\n",
    "\n",
    "    with Cluster(\"VPC\"):\n",
    "        with Cluster(\"Public Subnet\"):\n",
    "            lb = ELB(\"NLB\")\n",
    "\n",
    "            bastion = EC2(\"Bastion\")\n",
    "\n",
    "        with Cluster(\"Private Subnet\"):\n",
    "            with Cluster(\"EKS\"):\n",
    "                eks = ElasticKubernetesService(\"EKS\")\n",
    "                with Cluster(\"Node Groups\"):\n",
    "                    svc_group = [\n",
    "                        EC2(\"nodes (nodegroup)\"),\n",
    "                        EC2(\"nodes (karpenter)\"),\n",
    "                        EC2(\"nodes (ASG)\")\n",
    "                    ]\n",
    "\n",
    "            with Cluster(\"RDS\"):\n",
    "                db_master = RDS(\"Leader\")\n",
    "                db_follower = RDS(\"Follower\")\n",
    "                db_master - [db_follower]\n",
    "\n",
    "            redis = ElastiCache(\"Redis\")\n",
    "\n",
    "    \n",
    "\n",
    "    dns >> lb >> eks >> svc_group\n",
    "    bastion >> db_follower\n",
    "    svc_group >> db_master\n",
    "    svc_group >> redis\n",
    "\n",
    "diag"
   ]
  },
  {
   "cell_type": "markdown",
   "metadata": {},
   "source": [
    "## Kubernetes"
   ]
  },
  {
   "cell_type": "code",
   "execution_count": null,
   "metadata": {},
   "outputs": [],
   "source": [
    "#!/usr/bin/env python\n",
    "\n",
    "from diagrams import Cluster, Diagram\n",
    "from diagrams.k8s.clusterconfig import HPA\n",
    "from diagrams.k8s.compute import Deployment, Pod, ReplicaSet, Cronjob\n",
    "from diagrams.k8s.network import Ingress, Service\n",
    "\n",
    "with Diagram(\"EKS Nodes\", show=False) as diag:\n",
    "    with Cluster(\"EKS Nodes\"):\n",
    "        net = Ingress(\"EKS\") >> Service(\"Nginx (NLB)\") >> Deployment(\"Nginx Controller (HPA)\")\n",
    "\n",
    "        with Cluster(\"App (Helm)\"):\n",
    "            net >> Service(\"App (ClusterIP)\") >> [\n",
    "                Deployment(\"App (HPA)\"),\n",
    "            ]\n",
    "            Cronjob(\"App\")\n",
    "\n",
    "diag"
   ]
  }
 ],
 "metadata": {
  "kernelspec": {
   "display_name": "Python 3.10.4 64-bit ('3.10.4')",
   "language": "python",
   "name": "python3"
  },
  "language_info": {
   "codemirror_mode": {
    "name": "ipython",
    "version": 3
   },
   "file_extension": ".py",
   "mimetype": "text/x-python",
   "name": "python",
   "nbconvert_exporter": "python",
   "pygments_lexer": "ipython3",
   "version": "3.10.4"
  },
  "vscode": {
   "interpreter": {
    "hash": "eeca3472109e1bd38b72cc104a054ca05fc71b0372a154b0b318ea13df4b18d0"
   }
  }
 },
 "nbformat": 4,
 "nbformat_minor": 2
}
